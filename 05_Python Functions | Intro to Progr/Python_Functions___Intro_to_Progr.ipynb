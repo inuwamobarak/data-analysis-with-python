{
  "nbformat": 4,
  "nbformat_minor": 0,
  "metadata": {
    "colab": {
      "provenance": []
    },
    "kernelspec": {
      "name": "python3",
      "display_name": "Python 3"
    },
    "language_info": {
      "name": "python"
    }
  },
  "cells": [
    {
      "cell_type": "markdown",
      "source": [
        "## Python Functions"
      ],
      "metadata": {
        "id": "qa-z3A0FTs-R"
      }
    },
    {
      "cell_type": "markdown",
      "source": [
        "Functions in Python are blocks of **reusable** code that can be **called** to perform specific tasks.\n",
        "They allow you to;\n",
        "* organize your code\n",
        "* make it more modular\n",
        "* and avoid redundant code."
      ],
      "metadata": {
        "id": "CPW_Yk6mT2zB"
      }
    },
    {
      "cell_type": "markdown",
      "source": [
        "### Defining a Function"
      ],
      "metadata": {
        "id": "j435SxvUUHE0"
      }
    },
    {
      "cell_type": "markdown",
      "source": [
        "Functions are defined using the \"def\" keyword followed by the function name and parentheses containing optional parameters."
      ],
      "metadata": {
        "id": "js2JXZ-tUOEg"
      }
    },
    {
      "cell_type": "code",
      "source": [
        "# Defining a Function\n",
        "def greet(name):\n",
        "  age = 18\n",
        "  print(f\"Hello, {name}\")"
      ],
      "metadata": {
        "id": "0VB3Dla6UdVP"
      },
      "execution_count": null,
      "outputs": []
    },
    {
      "cell_type": "markdown",
      "source": [
        "### Using a Function (Function Call)"
      ],
      "metadata": {
        "id": "Gag0Tg_OUYKZ"
      }
    },
    {
      "cell_type": "code",
      "execution_count": null,
      "metadata": {
        "id": "92Xhl8r6TWmH",
        "colab": {
          "base_uri": "https://localhost:8080/"
        },
        "outputId": "5841ea6e-9a1a-4167-a626-8fe27ee74db4"
      },
      "outputs": [
        {
          "output_type": "stream",
          "name": "stdout",
          "text": [
            "Hello, Joy\n"
          ]
        }
      ],
      "source": [
        "# Function name\n",
        "greet(\"Joy\")"
      ]
    },
    {
      "cell_type": "markdown",
      "source": [
        "### Function Parameters"
      ],
      "metadata": {
        "id": "viweyPa4U6HV"
      }
    },
    {
      "cell_type": "markdown",
      "source": [
        "Two Types:\n",
        "\n",
        "**Required Parameters:**\n",
        "Parameters that must be provided during function call.\n",
        "\n",
        "**Default Parameters:**\n",
        "Parameters with default values. If not provided during the function call, the default values are used."
      ],
      "metadata": {
        "id": "Alhu_GxOVbNX"
      }
    },
    {
      "cell_type": "code",
      "source": [
        "# Required Parameters\n",
        "def cube(x):\n",
        "  return x ** 3"
      ],
      "metadata": {
        "id": "3XrjeqbbU7QP"
      },
      "execution_count": null,
      "outputs": []
    },
    {
      "cell_type": "code",
      "source": [
        "cube_value = cube(3)\n",
        "print(cube_value)"
      ],
      "metadata": {
        "colab": {
          "base_uri": "https://localhost:8080/"
        },
        "id": "odO6i7SnM6V-",
        "outputId": "e42df130-cd25-4ea6-9743-d236e245c99e"
      },
      "execution_count": null,
      "outputs": [
        {
          "output_type": "stream",
          "name": "stdout",
          "text": [
            "27\n"
          ]
        }
      ]
    },
    {
      "cell_type": "code",
      "source": [
        "# Default Parameters\n",
        "def power(value, power_value=1):\n",
        "  return value ** power_value\n",
        "\n",
        "print(power(3, 3))"
      ],
      "metadata": {
        "id": "3zitr6FJV7l6",
        "colab": {
          "base_uri": "https://localhost:8080/"
        },
        "outputId": "ffc4eec4-42c5-46e3-ab31-ecaa622b26c6"
      },
      "execution_count": null,
      "outputs": [
        {
          "output_type": "stream",
          "name": "stdout",
          "text": [
            "27\n"
          ]
        }
      ]
    },
    {
      "cell_type": "markdown",
      "source": [
        "### Return Statement"
      ],
      "metadata": {
        "id": "ZMcEEZNtV587"
      }
    },
    {
      "cell_type": "markdown",
      "source": [
        "Functions can return values using the \"*return*\" statement."
      ],
      "metadata": {
        "id": "IGizhmc9WK3t"
      }
    },
    {
      "cell_type": "code",
      "source": [
        "# Return Statement\n",
        "def cube(x):\n",
        "  return x ** 3\n",
        "\n",
        "print(cube(2))"
      ],
      "metadata": {
        "id": "-pPzLnelWKeW",
        "colab": {
          "base_uri": "https://localhost:8080/"
        },
        "outputId": "6ec22e0b-2a3a-48a4-ec4b-07dc90c7d86c"
      },
      "execution_count": null,
      "outputs": [
        {
          "output_type": "stream",
          "name": "stdout",
          "text": [
            "8\n"
          ]
        }
      ]
    },
    {
      "cell_type": "markdown",
      "source": [
        "### Scope of Variables"
      ],
      "metadata": {
        "id": "87j4fB-PWfhY"
      }
    },
    {
      "cell_type": "markdown",
      "source": [
        "Variables defined inside a function are local to the function and **cannot** be accessed outside it. Variables defined outside the function are global."
      ],
      "metadata": {
        "id": "tQ6XlSjwWlHI"
      }
    },
    {
      "cell_type": "code",
      "source": [
        "# Global and Local Variables\n",
        "y = 2\n",
        "def cube(x):\n",
        "  results = x ** 3 # Local Variable\n",
        "  return results\n",
        "\n",
        "print(y) # Global Variable"
      ],
      "metadata": {
        "id": "VC-gCaErWIxq",
        "colab": {
          "base_uri": "https://localhost:8080/"
        },
        "outputId": "3bc898d3-cc00-44dd-8f29-52d8e268c740"
      },
      "execution_count": null,
      "outputs": [
        {
          "output_type": "stream",
          "name": "stdout",
          "text": [
            "2\n"
          ]
        }
      ]
    },
    {
      "cell_type": "markdown",
      "source": [
        "### Recursive Functions"
      ],
      "metadata": {
        "id": "TLgOiBpxXPf5"
      }
    },
    {
      "cell_type": "markdown",
      "source": [
        "Functions that call themselves."
      ],
      "metadata": {
        "id": "r-BwBdj7XVIu"
      }
    },
    {
      "cell_type": "code",
      "source": [
        "# Recursive Functions\n",
        "def factorial(n):\n",
        "  if n == 0:\n",
        "    return 1\n",
        "  else:\n",
        "    return n*factorial(n-1)\n",
        "\n",
        "factorial(3)"
      ],
      "metadata": {
        "id": "t1hT8LQwXQpN",
        "colab": {
          "base_uri": "https://localhost:8080/"
        },
        "outputId": "f09b6b3d-3e72-4c90-e92f-c619ac8d3267"
      },
      "execution_count": null,
      "outputs": [
        {
          "output_type": "execute_result",
          "data": {
            "text/plain": [
              "6"
            ]
          },
          "metadata": {},
          "execution_count": 13
        }
      ]
    },
    {
      "cell_type": "markdown",
      "source": [
        "### Lambda Functions (Anonymous Functions)"
      ],
      "metadata": {
        "id": "uL-nsLjsXg7e"
      }
    },
    {
      "cell_type": "markdown",
      "source": [
        "Functions without a name. Often used for short tasks."
      ],
      "metadata": {
        "id": "d3-38EocXlVG"
      }
    },
    {
      "cell_type": "code",
      "source": [
        "# Lambda Function\n",
        "subtraction = lambda a, b: a - b\n",
        "print(subtraction(6,3))"
      ],
      "metadata": {
        "id": "fNiwM0D2XiG_",
        "colab": {
          "base_uri": "https://localhost:8080/"
        },
        "outputId": "62566f22-c3c7-4ace-a2de-7600c5025dd4"
      },
      "execution_count": null,
      "outputs": [
        {
          "output_type": "stream",
          "name": "stdout",
          "text": [
            "3\n"
          ]
        }
      ]
    },
    {
      "cell_type": "markdown",
      "source": [
        "### Some notable built-in functions in Python"
      ],
      "metadata": {
        "id": "Wb-f6Kd3XwkG"
      }
    },
    {
      "cell_type": "markdown",
      "source": [
        "***print():*** Display output to the console.\n",
        "\n",
        "***len():*** Returns the length of a sequence (string, list, tuple, etc.).\n",
        "\n",
        "***Input():*** Reads user input from the console.\n",
        "\n",
        "***Range():*** Generates a sequence of numbers.\n",
        "\n",
        "***Type():*** Returns the type of an object.\n",
        "\n",
        "***max() and min():*** Returns the maximum and minimum value from a sequence.\n",
        "\n",
        "***Sum():*** Returns the sum of elements in a sequence."
      ],
      "metadata": {
        "id": "xLNM3w-2X5LC"
      }
    },
    {
      "cell_type": "code",
      "source": [
        "# print()\n"
      ],
      "metadata": {
        "id": "inmEdHznXyqj"
      },
      "execution_count": null,
      "outputs": []
    },
    {
      "cell_type": "code",
      "source": [
        "# len()\n"
      ],
      "metadata": {
        "id": "ZIkvsCEBYSrf"
      },
      "execution_count": null,
      "outputs": []
    },
    {
      "cell_type": "code",
      "source": [
        "# input()\n"
      ],
      "metadata": {
        "id": "GSod2GPaYUrq"
      },
      "execution_count": null,
      "outputs": []
    },
    {
      "cell_type": "code",
      "source": [
        "# range()\n"
      ],
      "metadata": {
        "id": "1WN3G2HkYXmi"
      },
      "execution_count": null,
      "outputs": []
    },
    {
      "cell_type": "code",
      "source": [
        "# type()\n"
      ],
      "metadata": {
        "id": "Q4rhRS3pYbKk"
      },
      "execution_count": null,
      "outputs": []
    },
    {
      "cell_type": "code",
      "source": [
        "# max()\n"
      ],
      "metadata": {
        "id": "kE81ix9MYgcH"
      },
      "execution_count": null,
      "outputs": []
    },
    {
      "cell_type": "code",
      "source": [
        "# min()\n"
      ],
      "metadata": {
        "id": "1JhoaN4dYkM1"
      },
      "execution_count": null,
      "outputs": []
    },
    {
      "cell_type": "code",
      "source": [
        "# Sum()\n"
      ],
      "metadata": {
        "id": "UzBRy5tPYmU8"
      },
      "execution_count": null,
      "outputs": []
    }
  ]
}