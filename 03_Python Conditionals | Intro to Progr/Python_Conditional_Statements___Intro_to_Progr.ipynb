{
  "nbformat": 4,
  "nbformat_minor": 0,
  "metadata": {
    "colab": {
      "provenance": []
    },
    "kernelspec": {
      "name": "python3",
      "display_name": "Python 3"
    },
    "language_info": {
      "name": "python"
    }
  },
  "cells": [
    {
      "cell_type": "markdown",
      "source": [
        "## Python Conditional Statements"
      ],
      "metadata": {
        "id": "DB3B8v5xQOUD"
      }
    },
    {
      "cell_type": "markdown",
      "source": [
        "Conditional statements in Python allow you to make **decisions** in your code based on **certain** scenerios. These statements control the flow of your program by executing **only** specific code blocks when certain conditions are met."
      ],
      "metadata": {
        "id": "eBtXqwGdQTmF"
      }
    },
    {
      "cell_type": "markdown",
      "source": [
        "### if Statement"
      ],
      "metadata": {
        "id": "bjNhHcMJQiQr"
      }
    },
    {
      "cell_type": "markdown",
      "source": [
        "The \"if\" statement is used to execute a block of code only if a specific condition is true."
      ],
      "metadata": {
        "id": "lBX6GYK3Qwzm"
      }
    },
    {
      "cell_type": "code",
      "source": [
        "# if Statement\n",
        "password = 12345\n",
        "\n",
        "if password == 12345:\n",
        "  print('Login')"
      ],
      "metadata": {
        "id": "v24t91QGQTSi",
        "colab": {
          "base_uri": "https://localhost:8080/"
        },
        "outputId": "23ff30af-57aa-4a54-c793-92cdcef4d08c"
      },
      "execution_count": null,
      "outputs": [
        {
          "output_type": "stream",
          "name": "stdout",
          "text": [
            "Login\n"
          ]
        }
      ]
    },
    {
      "cell_type": "markdown",
      "source": [
        "### if-else Statement"
      ],
      "metadata": {
        "id": "n24cl-WYRKsS"
      }
    },
    {
      "cell_type": "markdown",
      "source": [
        "The \"if-else\" statement executes one block of code when the condition is true and another block when the condition is false."
      ],
      "metadata": {
        "id": "gl756feVRPMV"
      }
    },
    {
      "cell_type": "code",
      "execution_count": null,
      "metadata": {
        "id": "Sp1SpQDDP_e-",
        "colab": {
          "base_uri": "https://localhost:8080/"
        },
        "outputId": "6da28384-d043-4ccd-b1bf-f80c278f4d89"
      },
      "outputs": [
        {
          "output_type": "stream",
          "name": "stdout",
          "text": [
            "Congratulations, you are eligible\n"
          ]
        }
      ],
      "source": [
        "# if-else Statement\n",
        "age = 26\n",
        "\n",
        "if age > 30:\n",
        "  print('Not Eligible')\n",
        "  print('Take Certificate of Exemption')\n",
        "else:\n",
        "  print('Congratulations, you are eligible')"
      ]
    },
    {
      "cell_type": "markdown",
      "source": [
        "### if-elif-else Statement"
      ],
      "metadata": {
        "id": "uqsEERNfRmbJ"
      }
    },
    {
      "cell_type": "markdown",
      "source": [
        "The \"if-elif-else\" statement handles multiple conditions. It allows you to handle different cases."
      ],
      "metadata": {
        "id": "9-WOZPcJRqDj"
      }
    },
    {
      "cell_type": "code",
      "source": [
        "# if-elif-else Statement\n",
        "price = 500\n",
        "\n",
        "if price >= 900:\n",
        "  print('Elite')\n",
        "elif price >= 750:\n",
        "  print('Expensive')\n",
        "elif price >= 500:\n",
        "  print('Average')\n",
        "else:\n",
        "  print('Cheap')"
      ],
      "metadata": {
        "id": "zEUpzWMkRnM9",
        "colab": {
          "base_uri": "https://localhost:8080/"
        },
        "outputId": "cd619bf5-4a8d-4361-d958-6d9c63b65bd7"
      },
      "execution_count": null,
      "outputs": [
        {
          "output_type": "stream",
          "name": "stdout",
          "text": [
            "Average\n"
          ]
        }
      ]
    },
    {
      "cell_type": "markdown",
      "source": [
        "### Nested if Statements"
      ],
      "metadata": {
        "id": "v5clzYUMR8El"
      }
    },
    {
      "cell_type": "markdown",
      "source": [
        "You can use if statements inside another if statement to create nested conditions."
      ],
      "metadata": {
        "id": "uqni6YmZSBzO"
      }
    },
    {
      "cell_type": "code",
      "source": [
        "# Nested if Statements\n",
        "price = 999\n",
        "\n",
        "if price >= 900:\n",
        "  if price >= 980:\n",
        "    print(\"Congratulations, you've won a ticket\")\n",
        "  print('Elite')\n",
        "elif price >= 750:\n",
        "  print('Expensive')\n",
        "elif price >= 500:\n",
        "  print('Average')\n",
        "else:\n",
        "  print('Cheap')\n"
      ],
      "metadata": {
        "id": "2_ZzGa0tR44f",
        "colab": {
          "base_uri": "https://localhost:8080/"
        },
        "outputId": "eb16d51c-2c44-43cd-b46e-6db3969aa9a4"
      },
      "execution_count": null,
      "outputs": [
        {
          "output_type": "stream",
          "name": "stdout",
          "text": [
            "Congratulations, you've won a ticket\n",
            "Elite\n"
          ]
        }
      ]
    },
    {
      "cell_type": "markdown",
      "source": [
        "### Ternary Operator (Conditional Expression)"
      ],
      "metadata": {
        "id": "P-_8eE_fSsNe"
      }
    },
    {
      "cell_type": "markdown",
      "source": [
        "Python allows the use of the ternary operator for concise conditional expressions."
      ],
      "metadata": {
        "id": "kYjnehBPSvld"
      }
    },
    {
      "cell_type": "code",
      "source": [
        "# Ternary Operator (Conditional Expression)\n",
        "age = 33\n",
        "\n",
        "register = 'Not Eligible' if age > 30 else \"Congratulations, you are eligible\"\n",
        "print(register)"
      ],
      "metadata": {
        "id": "DpGpj3PaStd0",
        "colab": {
          "base_uri": "https://localhost:8080/"
        },
        "outputId": "415ae460-b383-4d15-bfc5-85d9b490bd9f"
      },
      "execution_count": null,
      "outputs": [
        {
          "output_type": "stream",
          "name": "stdout",
          "text": [
            "Not Eligible\n"
          ]
        }
      ]
    }
  ]
}