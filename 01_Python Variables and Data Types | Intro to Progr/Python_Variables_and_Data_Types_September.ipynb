{
  "nbformat": 4,
  "nbformat_minor": 0,
  "metadata": {
    "colab": {
      "provenance": []
    },
    "kernelspec": {
      "name": "python3",
      "display_name": "Python 3"
    },
    "language_info": {
      "name": "python"
    }
  },
  "cells": [
    {
      "cell_type": "markdown",
      "source": [
        "## Data Types"
      ],
      "metadata": {
        "id": "F147-Zr7m7jN"
      }
    },
    {
      "cell_type": "code",
      "execution_count": 1,
      "metadata": {
        "id": "lhQ9_TrLmWYJ"
      },
      "outputs": [],
      "source": [
        "# Integer\n",
        "\n",
        "age = 25"
      ]
    },
    {
      "cell_type": "code",
      "source": [
        "# Floating-point\n",
        "\n",
        "height = 5.9"
      ],
      "metadata": {
        "id": "-YizQLI1oSGV"
      },
      "execution_count": null,
      "outputs": []
    },
    {
      "cell_type": "code",
      "source": [
        "# String\n",
        "\n",
        "name = 'John'"
      ],
      "metadata": {
        "id": "m8BjY8NGo-dC"
      },
      "execution_count": null,
      "outputs": []
    },
    {
      "cell_type": "code",
      "source": [
        "# Boolean\n",
        "\n",
        "is_late = True"
      ],
      "metadata": {
        "id": "T-YM08uNpJLI"
      },
      "execution_count": 9,
      "outputs": []
    },
    {
      "cell_type": "markdown",
      "source": [
        "## Python Comments"
      ],
      "metadata": {
        "id": "hlLpi0F-p11u"
      }
    },
    {
      "cell_type": "code",
      "source": [
        "# Single-line comments"
      ],
      "metadata": {
        "id": "s9fQHRZgprB-"
      },
      "execution_count": null,
      "outputs": []
    },
    {
      "cell_type": "code",
      "source": [
        "# Multiple line comment\n",
        "\"\"\"\n",
        "Statistics is a branch of Mathematics\n",
        "considered as applied Mathematics.\n",
        "It is made up of two branches.\n",
        "\"\"\"\n",
        "\n",
        "x = 3"
      ],
      "metadata": {
        "id": "v2mbpfbxqrms"
      },
      "execution_count": null,
      "outputs": []
    },
    {
      "cell_type": "markdown",
      "source": [
        "## Assigning Values to Varables"
      ],
      "metadata": {
        "id": "6xV43xp-rsyr"
      }
    },
    {
      "cell_type": "code",
      "source": [
        "age = 25\n",
        "name = \"John\""
      ],
      "metadata": {
        "id": "_1afcS9VrFXc"
      },
      "execution_count": null,
      "outputs": []
    },
    {
      "cell_type": "code",
      "source": [
        "print(age)"
      ],
      "metadata": {
        "colab": {
          "base_uri": "https://localhost:8080/"
        },
        "id": "HAtxXqazryIy",
        "outputId": "57a4dc86-6adb-474f-d3e5-7f911c4889e9"
      },
      "execution_count": null,
      "outputs": [
        {
          "output_type": "stream",
          "name": "stdout",
          "text": [
            "25\n"
          ]
        }
      ]
    },
    {
      "cell_type": "code",
      "source": [
        "# Reassigning Variables\n",
        "\n",
        "name = 'John Paul'"
      ],
      "metadata": {
        "id": "fQxFEcEBsQOH"
      },
      "execution_count": 2,
      "outputs": []
    },
    {
      "cell_type": "markdown",
      "source": [
        "## Type Checking"
      ],
      "metadata": {
        "id": "aZgiJ7cvyBOW"
      }
    },
    {
      "cell_type": "code",
      "source": [
        "# We use type() function to check the data type of the variable\n",
        "\n",
        "type(age)"
      ],
      "metadata": {
        "colab": {
          "base_uri": "https://localhost:8080/"
        },
        "id": "cMx8A6J-xCxH",
        "outputId": "76f4bc14-743d-4f01-8660-c510fd2cac60"
      },
      "execution_count": 6,
      "outputs": [
        {
          "output_type": "execute_result",
          "data": {
            "text/plain": [
              "int"
            ]
          },
          "metadata": {},
          "execution_count": 6
        }
      ]
    },
    {
      "cell_type": "code",
      "source": [
        "type(name)"
      ],
      "metadata": {
        "colab": {
          "base_uri": "https://localhost:8080/"
        },
        "id": "CW2g1kYuyjdZ",
        "outputId": "cc2ada08-c66d-495b-beba-777bbaa567ee"
      },
      "execution_count": 7,
      "outputs": [
        {
          "output_type": "execute_result",
          "data": {
            "text/plain": [
              "str"
            ]
          },
          "metadata": {},
          "execution_count": 7
        }
      ]
    },
    {
      "cell_type": "code",
      "source": [
        "type(is_late)"
      ],
      "metadata": {
        "colab": {
          "base_uri": "https://localhost:8080/"
        },
        "id": "6NjVLI0SyvaK",
        "outputId": "bf4a4282-fcd6-4139-ec12-6170c239b54f"
      },
      "execution_count": 10,
      "outputs": [
        {
          "output_type": "execute_result",
          "data": {
            "text/plain": [
              "bool"
            ]
          },
          "metadata": {},
          "execution_count": 10
        }
      ]
    },
    {
      "cell_type": "markdown",
      "source": [
        "## Data Type Conversion"
      ],
      "metadata": {
        "id": "l7Ujf-PFzKFk"
      }
    },
    {
      "cell_type": "code",
      "source": [
        "age = float(age)"
      ],
      "metadata": {
        "id": "SMMfOrQ-y5NW"
      },
      "execution_count": 13,
      "outputs": []
    },
    {
      "cell_type": "code",
      "source": [
        "age"
      ],
      "metadata": {
        "colab": {
          "base_uri": "https://localhost:8080/"
        },
        "id": "TQjPfD15zd3U",
        "outputId": "4bba70b4-8e97-49a0-eab3-b6858db7377e"
      },
      "execution_count": 14,
      "outputs": [
        {
          "output_type": "execute_result",
          "data": {
            "text/plain": [
              "25.0"
            ]
          },
          "metadata": {},
          "execution_count": 14
        }
      ]
    },
    {
      "cell_type": "code",
      "source": [
        "x = '11'"
      ],
      "metadata": {
        "id": "B2-nWBYFz-4c"
      },
      "execution_count": 16,
      "outputs": []
    },
    {
      "cell_type": "code",
      "source": [
        "type(x)"
      ],
      "metadata": {
        "colab": {
          "base_uri": "https://localhost:8080/"
        },
        "id": "BFQkWpKd0LsY",
        "outputId": "a718d155-04a2-4770-afa0-81f0f0e47895"
      },
      "execution_count": 19,
      "outputs": [
        {
          "output_type": "execute_result",
          "data": {
            "text/plain": [
              "str"
            ]
          },
          "metadata": {},
          "execution_count": 19
        }
      ]
    },
    {
      "cell_type": "code",
      "source": [
        "age = int(x)"
      ],
      "metadata": {
        "id": "4iHwR4pwzhbR"
      },
      "execution_count": 24,
      "outputs": []
    },
    {
      "cell_type": "code",
      "source": [
        "age"
      ],
      "metadata": {
        "colab": {
          "base_uri": "https://localhost:8080/"
        },
        "id": "f8vqE8Fvz5Fi",
        "outputId": "8af8ad80-ef86-46f2-85dd-7876e386f4f7"
      },
      "execution_count": 25,
      "outputs": [
        {
          "output_type": "execute_result",
          "data": {
            "text/plain": [
              "11"
            ]
          },
          "metadata": {},
          "execution_count": 25
        }
      ]
    },
    {
      "cell_type": "code",
      "source": [],
      "metadata": {
        "id": "Z3eOIq3-0HRm"
      },
      "execution_count": null,
      "outputs": []
    }
  ]
}