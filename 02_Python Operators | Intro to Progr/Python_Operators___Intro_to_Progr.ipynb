{
  "nbformat": 4,
  "nbformat_minor": 0,
  "metadata": {
    "colab": {
      "provenance": []
    },
    "kernelspec": {
      "name": "python3",
      "display_name": "Python 3"
    },
    "language_info": {
      "name": "python"
    }
  },
  "cells": [
    {
      "cell_type": "markdown",
      "source": [
        "## Python Operators"
      ],
      "metadata": {
        "id": "7hZoz4FuMWBP"
      }
    },
    {
      "cell_type": "markdown",
      "source": [
        "### Arithmetic Operators"
      ],
      "metadata": {
        "id": "X84tW7H1Mk9w"
      }
    },
    {
      "cell_type": "code",
      "source": [
        "a = 5\n",
        "b = 2"
      ],
      "metadata": {
        "id": "fhsmV_u4n3pC"
      },
      "execution_count": null,
      "outputs": []
    },
    {
      "cell_type": "code",
      "execution_count": null,
      "metadata": {
        "id": "L6AVfbn_MQi8",
        "colab": {
          "base_uri": "https://localhost:8080/"
        },
        "outputId": "f36c5c85-5554-483b-a16c-70294ef51ccc"
      },
      "outputs": [
        {
          "output_type": "stream",
          "name": "stdout",
          "text": [
            "7\n"
          ]
        }
      ],
      "source": [
        "# Addition (+)\n",
        "print(a +  b)"
      ]
    },
    {
      "cell_type": "code",
      "source": [
        "# Subtraction (-)\n",
        "print(a - b)"
      ],
      "metadata": {
        "id": "J-RG7ZMjOGZD",
        "colab": {
          "base_uri": "https://localhost:8080/"
        },
        "outputId": "1508d1f6-7a49-44e5-f5c0-4d8fb83dc4e2"
      },
      "execution_count": null,
      "outputs": [
        {
          "output_type": "stream",
          "name": "stdout",
          "text": [
            "3\n"
          ]
        }
      ]
    },
    {
      "cell_type": "code",
      "source": [
        "# Multiplication (*)\n",
        "print(a * b)"
      ],
      "metadata": {
        "id": "rHoidaboOJLS",
        "colab": {
          "base_uri": "https://localhost:8080/"
        },
        "outputId": "f25b5fbe-6a79-472b-bd00-66dcd57bd2ad"
      },
      "execution_count": null,
      "outputs": [
        {
          "output_type": "stream",
          "name": "stdout",
          "text": [
            "10\n"
          ]
        }
      ]
    },
    {
      "cell_type": "code",
      "source": [
        " # Division (/)\n",
        "print(a / b)"
      ],
      "metadata": {
        "id": "-UJ2xaeZOLc7",
        "colab": {
          "base_uri": "https://localhost:8080/"
        },
        "outputId": "87bf2816-8ce9-4bcf-c78e-c3d0638a2f05"
      },
      "execution_count": null,
      "outputs": [
        {
          "output_type": "stream",
          "name": "stdout",
          "text": [
            "2.5\n"
          ]
        }
      ]
    },
    {
      "cell_type": "code",
      "source": [
        "# Modulus (%)\n",
        "print(a % b)"
      ],
      "metadata": {
        "id": "9du-xsbmOOXU",
        "colab": {
          "base_uri": "https://localhost:8080/"
        },
        "outputId": "b0cfaf39-308a-4d32-c20f-7568b7a66475"
      },
      "execution_count": null,
      "outputs": [
        {
          "output_type": "stream",
          "name": "stdout",
          "text": [
            "1\n"
          ]
        }
      ]
    },
    {
      "cell_type": "code",
      "source": [
        "# Exponentiation (**)\n",
        "print(a ** b)"
      ],
      "metadata": {
        "id": "KX7HjoKcORuD",
        "colab": {
          "base_uri": "https://localhost:8080/"
        },
        "outputId": "53849742-0893-4bb2-fad0-3c0091159b1b"
      },
      "execution_count": null,
      "outputs": [
        {
          "output_type": "stream",
          "name": "stdout",
          "text": [
            "25\n"
          ]
        }
      ]
    },
    {
      "cell_type": "code",
      "source": [
        "# Floor Division (//)\n",
        "print(a // b)\n",
        "\n",
        "x = 10\n",
        "y = 3\n",
        "print(x // y)"
      ],
      "metadata": {
        "id": "AMUhBijcOUMx",
        "colab": {
          "base_uri": "https://localhost:8080/"
        },
        "outputId": "595dfa39-8133-4062-fb55-ded9a9e9cbe0"
      },
      "execution_count": null,
      "outputs": [
        {
          "output_type": "stream",
          "name": "stdout",
          "text": [
            "2\n",
            "3\n"
          ]
        }
      ]
    },
    {
      "cell_type": "markdown",
      "source": [
        "### Comparison Operators"
      ],
      "metadata": {
        "id": "XGIZdQmbOaEx"
      }
    },
    {
      "cell_type": "code",
      "source": [
        "x = 10\n",
        "y = 12"
      ],
      "metadata": {
        "id": "GcbPVbPsp87b"
      },
      "execution_count": null,
      "outputs": []
    },
    {
      "cell_type": "code",
      "source": [
        "# Equal to (==)\n",
        "print(x == y)"
      ],
      "metadata": {
        "id": "yjARJLnsObZ0",
        "colab": {
          "base_uri": "https://localhost:8080/"
        },
        "outputId": "765e3fa5-eeb4-4d29-e71c-0ebb56f08d6e"
      },
      "execution_count": null,
      "outputs": [
        {
          "output_type": "stream",
          "name": "stdout",
          "text": [
            "False\n"
          ]
        }
      ]
    },
    {
      "cell_type": "code",
      "source": [
        "# Not equal to (!=)\n",
        "print(x != y)"
      ],
      "metadata": {
        "id": "4IRMW1DSOitN",
        "colab": {
          "base_uri": "https://localhost:8080/"
        },
        "outputId": "7f151dc1-71c6-4c30-f8ed-991f38211371"
      },
      "execution_count": null,
      "outputs": [
        {
          "output_type": "stream",
          "name": "stdout",
          "text": [
            "True\n"
          ]
        }
      ]
    },
    {
      "cell_type": "code",
      "source": [
        "# Greater than (>)\n",
        "print(x > y)"
      ],
      "metadata": {
        "id": "MXBm7MrPOk6p",
        "colab": {
          "base_uri": "https://localhost:8080/"
        },
        "outputId": "1cf1f17d-04a7-44cf-950c-2e18c3898768"
      },
      "execution_count": null,
      "outputs": [
        {
          "output_type": "stream",
          "name": "stdout",
          "text": [
            "False\n"
          ]
        }
      ]
    },
    {
      "cell_type": "code",
      "source": [
        "# Less than (<)\n",
        "print(x < y)"
      ],
      "metadata": {
        "id": "ohv_3kadOoT0",
        "colab": {
          "base_uri": "https://localhost:8080/"
        },
        "outputId": "3204b4ad-f0e4-4701-c722-6b8d0e2143ee"
      },
      "execution_count": null,
      "outputs": [
        {
          "output_type": "stream",
          "name": "stdout",
          "text": [
            "True\n"
          ]
        }
      ]
    },
    {
      "cell_type": "code",
      "source": [
        "# Greater than or equal to (>=)\n",
        "print(x >= y)"
      ],
      "metadata": {
        "id": "gu5gOQF_OrPB",
        "colab": {
          "base_uri": "https://localhost:8080/"
        },
        "outputId": "cce46bd8-904e-4030-cd97-0741468576bf"
      },
      "execution_count": null,
      "outputs": [
        {
          "output_type": "stream",
          "name": "stdout",
          "text": [
            "False\n"
          ]
        }
      ]
    },
    {
      "cell_type": "code",
      "source": [
        "# Less than or equal to (<=)\n",
        "print(x <= y)"
      ],
      "metadata": {
        "id": "I_1hmTEvO0qT",
        "colab": {
          "base_uri": "https://localhost:8080/"
        },
        "outputId": "9b6a626b-7743-45bb-f959-4e657a12268e"
      },
      "execution_count": null,
      "outputs": [
        {
          "output_type": "stream",
          "name": "stdout",
          "text": [
            "True\n"
          ]
        }
      ]
    },
    {
      "cell_type": "markdown",
      "source": [
        "### Assignment Operators"
      ],
      "metadata": {
        "id": "-H6yYSBOO-cZ"
      }
    },
    {
      "cell_type": "code",
      "source": [
        "# Assign (=)\n",
        "first_name = \"Joy\"\n",
        "phone_number = 12345"
      ],
      "metadata": {
        "id": "1WeVnfmcO_Nu"
      },
      "execution_count": null,
      "outputs": []
    },
    {
      "cell_type": "code",
      "source": [
        "x = 10"
      ],
      "metadata": {
        "id": "e0xUELgmsZHk"
      },
      "execution_count": null,
      "outputs": []
    },
    {
      "cell_type": "code",
      "source": [
        "# Add and assign (+=)\n",
        "x += 2"
      ],
      "metadata": {
        "id": "nv4Qv8JaPCN1"
      },
      "execution_count": null,
      "outputs": []
    },
    {
      "cell_type": "code",
      "source": [
        "x"
      ],
      "metadata": {
        "colab": {
          "base_uri": "https://localhost:8080/"
        },
        "id": "SgHDzWnLtXTu",
        "outputId": "533c0c5e-1549-4a19-804d-99a537ea30a3"
      },
      "execution_count": null,
      "outputs": [
        {
          "output_type": "execute_result",
          "data": {
            "text/plain": [
              "12"
            ]
          },
          "metadata": {},
          "execution_count": 37
        }
      ]
    },
    {
      "cell_type": "code",
      "source": [
        "# Subtract and assign (-=)\n",
        "x = 10\n",
        "\n",
        "x -= 2\n",
        "x"
      ],
      "metadata": {
        "id": "NoUAiSOgPEPU",
        "colab": {
          "base_uri": "https://localhost:8080/"
        },
        "outputId": "3e129c95-acd5-49d2-d548-9e56e0eac06a"
      },
      "execution_count": null,
      "outputs": [
        {
          "output_type": "execute_result",
          "data": {
            "text/plain": [
              "8"
            ]
          },
          "metadata": {},
          "execution_count": 43
        }
      ]
    },
    {
      "cell_type": "code",
      "source": [
        "# Multiply and assign (*=)\n",
        "x = 10\n",
        "\n",
        "x *= 2\n",
        "x"
      ],
      "metadata": {
        "id": "o_OWK2YCPGSA",
        "colab": {
          "base_uri": "https://localhost:8080/"
        },
        "outputId": "f930362e-3e6a-4229-84cc-6ce037b75015"
      },
      "execution_count": null,
      "outputs": [
        {
          "output_type": "execute_result",
          "data": {
            "text/plain": [
              "20"
            ]
          },
          "metadata": {},
          "execution_count": 44
        }
      ]
    },
    {
      "cell_type": "code",
      "source": [
        "# Divide and assign (/=)\n",
        "x = 10\n",
        "\n",
        "x /= 2\n",
        "x"
      ],
      "metadata": {
        "id": "OHFNkxMYPI2O",
        "colab": {
          "base_uri": "https://localhost:8080/"
        },
        "outputId": "5e2cfdb1-64a9-408f-cd16-74d32cd5341b"
      },
      "execution_count": null,
      "outputs": [
        {
          "output_type": "execute_result",
          "data": {
            "text/plain": [
              "5.0"
            ]
          },
          "metadata": {},
          "execution_count": 46
        }
      ]
    },
    {
      "cell_type": "code",
      "source": [
        "# Modulus and assign (%=)\n",
        "x = 10\n",
        "\n",
        "x %= 2\n",
        "x"
      ],
      "metadata": {
        "id": "XMx-Zec1PIzB",
        "colab": {
          "base_uri": "https://localhost:8080/"
        },
        "outputId": "d27de20d-9394-42f0-95e1-b1b1101d5a67"
      },
      "execution_count": null,
      "outputs": [
        {
          "output_type": "execute_result",
          "data": {
            "text/plain": [
              "0"
            ]
          },
          "metadata": {},
          "execution_count": 47
        }
      ]
    },
    {
      "cell_type": "code",
      "source": [
        "# Exponentiate and assign (**=)\n",
        "x = 10\n",
        "\n",
        "x **= 2\n",
        "x"
      ],
      "metadata": {
        "id": "E3J0cqLIPIv5",
        "colab": {
          "base_uri": "https://localhost:8080/"
        },
        "outputId": "8c9ca47c-b4cc-4224-d5b0-904ff6b89faa"
      },
      "execution_count": null,
      "outputs": [
        {
          "output_type": "execute_result",
          "data": {
            "text/plain": [
              "100"
            ]
          },
          "metadata": {},
          "execution_count": 48
        }
      ]
    },
    {
      "cell_type": "code",
      "source": [
        "# Floor divide and assign (//=)\n",
        "x = 10\n",
        "\n",
        "x //= 2\n",
        "x"
      ],
      "metadata": {
        "id": "mpKdXkmDPIsj",
        "colab": {
          "base_uri": "https://localhost:8080/"
        },
        "outputId": "6af44bb2-5aa8-4718-fe91-5fe03e05c846"
      },
      "execution_count": null,
      "outputs": [
        {
          "output_type": "execute_result",
          "data": {
            "text/plain": [
              "5"
            ]
          },
          "metadata": {},
          "execution_count": 49
        }
      ]
    },
    {
      "cell_type": "markdown",
      "source": [
        "### Logical Operators"
      ],
      "metadata": {
        "id": "iC2f_nKDPXcs"
      }
    },
    {
      "cell_type": "code",
      "source": [
        "x = True\n",
        "y = False"
      ],
      "metadata": {
        "id": "pH2tySg6xNTZ"
      },
      "execution_count": null,
      "outputs": []
    },
    {
      "cell_type": "code",
      "source": [
        "# AND (and)\n",
        "print(x and y)"
      ],
      "metadata": {
        "id": "wWMetybQPIfz",
        "colab": {
          "base_uri": "https://localhost:8080/"
        },
        "outputId": "4bc50ae7-a0e6-4eb1-86d9-200e9e4c6a55"
      },
      "execution_count": null,
      "outputs": [
        {
          "output_type": "stream",
          "name": "stdout",
          "text": [
            "False\n"
          ]
        }
      ]
    },
    {
      "cell_type": "code",
      "source": [
        "# OR (or)\n",
        "print(x or y)"
      ],
      "metadata": {
        "id": "qShq4762Pbww",
        "colab": {
          "base_uri": "https://localhost:8080/"
        },
        "outputId": "5b85f05c-87f0-433c-bf73-ca0e1eeca98d"
      },
      "execution_count": null,
      "outputs": [
        {
          "output_type": "stream",
          "name": "stdout",
          "text": [
            "True\n"
          ]
        }
      ]
    },
    {
      "cell_type": "code",
      "source": [
        "# NOT (not)\n",
        "z = x or y\n",
        "\n",
        "print(not z)"
      ],
      "metadata": {
        "id": "FjwbISyWPbt5",
        "colab": {
          "base_uri": "https://localhost:8080/"
        },
        "outputId": "81d40b88-add8-4bf4-d3e4-8103818730af"
      },
      "execution_count": null,
      "outputs": [
        {
          "output_type": "stream",
          "name": "stdout",
          "text": [
            "False\n"
          ]
        }
      ]
    },
    {
      "cell_type": "markdown",
      "source": [
        "### Membership Operators"
      ],
      "metadata": {
        "id": "ZkD-NL8lPiOa"
      }
    },
    {
      "cell_type": "code",
      "source": [
        "# in\n",
        "students = ['John', 'Paul', 'Musa', 'Andrew']\n",
        "print('John' in students)"
      ],
      "metadata": {
        "id": "OlENjoVGPbqQ",
        "colab": {
          "base_uri": "https://localhost:8080/"
        },
        "outputId": "17b7526d-360f-4aa9-9c06-2caa2f80e0af"
      },
      "execution_count": null,
      "outputs": [
        {
          "output_type": "stream",
          "name": "stdout",
          "text": [
            "True\n"
          ]
        }
      ]
    },
    {
      "cell_type": "code",
      "source": [
        "# not in\n",
        "print('Paul' not in students)"
      ],
      "metadata": {
        "id": "fofRexpoPluW",
        "colab": {
          "base_uri": "https://localhost:8080/"
        },
        "outputId": "4c67a3e4-4bca-43ca-fd9a-08dc4af9a126"
      },
      "execution_count": null,
      "outputs": [
        {
          "output_type": "stream",
          "name": "stdout",
          "text": [
            "False\n"
          ]
        }
      ]
    },
    {
      "cell_type": "code",
      "source": [],
      "metadata": {
        "id": "p-RKZPny0NZb"
      },
      "execution_count": null,
      "outputs": []
    }
  ]
}